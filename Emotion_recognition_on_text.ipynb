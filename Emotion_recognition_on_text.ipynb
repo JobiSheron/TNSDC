{
  "nbformat": 4,
  "nbformat_minor": 0,
  "metadata": {
    "colab": {
      "provenance": []
    },
    "kernelspec": {
      "name": "python3",
      "display_name": "Python 3"
    },
    "language_info": {
      "name": "python"
    }
  },
  "cells": [
    {
      "cell_type": "code",
      "execution_count": 1,
      "metadata": {
        "colab": {
          "base_uri": "https://localhost:8080/"
        },
        "id": "PaUYySeDLxOW",
        "outputId": "d7361100-6a64-4df0-d9d3-54c11524d0b3"
      },
      "outputs": [
        {
          "output_type": "stream",
          "name": "stderr",
          "text": [
            "[nltk_data] Downloading package vader_lexicon to /root/nltk_data...\n"
          ]
        },
        {
          "output_type": "stream",
          "name": "stdout",
          "text": [
            "Enter your text: I LOVE YOU\n",
            "Text: I LOVE YOU | Emotion: ��� Positive\n"
          ]
        }
      ],
      "source": [
        "import nltk\n",
        "from nltk.sentiment import SentimentIntensityAnalyzer\n",
        "\n",
        "# Download NLTK resources (if not already downloaded)\n",
        "nltk.download('vader_lexicon')\n",
        "\n",
        "# Initialize the sentiment analyzer\n",
        "sid = SentimentIntensityAnalyzer()\n",
        "\n",
        "# Input text\n",
        "text = input(\"Enter your text: \")\n",
        "\n",
        "# Analyze sentiment for the input text\n",
        "sentiment_scores = sid.polarity_scores(text)\n",
        "\n",
        "# Classify emotions based on sentiment scores and assign emojis\n",
        "if sentiment_scores['compound'] >= 0.05:\n",
        "    emotion = '��� Positive'\n",
        "elif sentiment_scores['compound'] <= -0.05:\n",
        "    emotion = '��� Negative'\n",
        "else:\n",
        "    emotion = '��� Neutral'\n",
        "\n",
        "print(f\"Text: {text} | Emotion: {emotion}\")"
      ]
    }
  ]
}